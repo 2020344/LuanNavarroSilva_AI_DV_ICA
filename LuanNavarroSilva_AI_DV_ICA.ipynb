{
 "cells": [
  {
   "cell_type": "code",
   "execution_count": 6,
   "id": "65b92e7d",
   "metadata": {},
   "outputs": [
    {
     "name": "stdout",
     "output_type": "stream",
     "text": [
      "There are: 0 solutions for Scenario 1.\n"
     ]
    }
   ],
   "source": [
    "# Installs the constraint package onto the notebook.\n",
    "# !pip install python-constraint\n",
    "from constraint import *\n",
    "\n",
    "# Candidates and their abilities, excluding Ciara as she will be already included as a python programmer in all possible combinations.\n",
    "candidates = {\n",
    "    \"Peter\": [\"Python\", \"AI\"],\n",
    "    \"Juan\": [\"Web\", \"AI\"],\n",
    "    \"Jim\": [\"AI\", \"Systems\"],\n",
    "    \"Jane\": [\"Python\", \"Database\"],\n",
    "    \"Mary\": [\"Web\", \"Systems\"],\n",
    "    \"Bruce\": [\"Systems\", \"Python\"],\n",
    "    \"Anita\": [\"Web\", \"AI\"],\n",
    "}\n",
    "\n",
    "# Scenario 1\n",
    "problem1 = Problem()\n",
    "\n",
    "roles1 = [\"Python Programmer\", \"AI Engineer\", \"Web Designer\", \"Database Admin\", \"Systems Engineer\"]\n",
    "\n",
    "for role in roles1:\n",
    "    problem1.addVariable(role, [candidate for candidate, abilities in candidates.items() if role.split()[0] in abilities])\n",
    "    \n",
    "# Ciara fills one Python Programmer role\n",
    "problem1.addConstraint(lambda pp: pp == \"Ciara\", [\"Python Programmer\"]) \n",
    "\n",
    "# Only three more people can be hired\n",
    "problem1.addConstraint(lambda pp, ai, wd, db, se: len({pp, ai, wd, db, se}) == 4)\n",
    "\n",
    "# Solve the problem for Scenario 1\n",
    "solution1 = problem1.getSolutions()\n",
    "\n",
    "print(\"There are: \" + str(len(solution1)) + \" solutions for Scenario 1.\")"
   ]
  },
  {
   "cell_type": "code",
   "execution_count": null,
   "id": "fd21f288",
   "metadata": {},
   "outputs": [],
   "source": []
  }
 ],
 "metadata": {
  "kernelspec": {
   "display_name": "Python 3 (ipykernel)",
   "language": "python",
   "name": "python3"
  },
  "language_info": {
   "codemirror_mode": {
    "name": "ipython",
    "version": 3
   },
   "file_extension": ".py",
   "mimetype": "text/x-python",
   "name": "python",
   "nbconvert_exporter": "python",
   "pygments_lexer": "ipython3",
   "version": "3.11.5"
  }
 },
 "nbformat": 4,
 "nbformat_minor": 5
}
